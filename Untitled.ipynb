{
 "cells": [
  {
   "cell_type": "code",
   "execution_count": null,
   "id": "03ff2cb9-5e03-4f19-873f-1076d050b7f5",
   "metadata": {},
   "outputs": [],
   "source": []
  }
 ],
 "metadata": {
  "kernelspec": {
   "display_name": "Python 3.9.6 64-bit ('.venv': poetry)",
   "language": "python",
   "name": "python396jvsc74a57bd06d559fb3f5eeb97d598202d762dacb40de7754165cc87c141b828d60ed3e7144"
  },
  "language_info": {
   "codemirror_mode": {
    "name": "ipython",
    "version": 3
   },
   "file_extension": ".py",
   "mimetype": "text/x-python",
   "name": "python",
   "nbconvert_exporter": "python",
   "pygments_lexer": "ipython3",
   "version": "3.9.6"
  }
 },
 "nbformat": 4,
 "nbformat_minor": 5
}
