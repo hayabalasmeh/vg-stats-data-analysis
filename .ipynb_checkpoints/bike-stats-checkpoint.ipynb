{
 "cells": [
  {
   "cell_type": "markdown",
   "source": [
    "## Data Analysis with Pandas\n",
    "## Auther : Haya Balasmeh\n",
    "## Date : 9th/August/2021\n",
    "## Data set name : Bicycle Trip Data"
   ],
   "metadata": {}
  },
  {
   "cell_type": "markdown",
   "source": [
    "#### Questions need to be answered :\n",
    "\n",
    "\n",
    "1- What is the average trip duration for a borrowed bicycle?\n",
    "\n",
    "2- What’s the most common age of a bicycle-sharer?\n",
    "\n",
    "3- Given all the weather data here, find the average precipitation per month, and the median precipitation.\n",
    "\n",
    "4- What’s the average number of bikes at a given bike station?\n",
    "\n",
    "5- When a bike station is modified, is it more likely that it’ll lose bikes or gain bikes? How do you know?\n",
    "\n",
    "6- Come up with 3 more questions that can be answered with this data set.\n"
   ],
   "metadata": {}
  }
 ],
 "metadata": {
  "orig_nbformat": 4,
  "language_info": {
   "name": "python",
   "version": "3.9.6"
  },
  "kernelspec": {
   "name": "python3",
   "display_name": "Python 3.9.6 64-bit ('.venv': poetry)"
  },
  "interpreter": {
   "hash": "f89e73119bee3978f7a48795828f2d5bf4d8a5d1cb76c233bf5d1aedde2451a9"
  }
 },
 "nbformat": 4,
 "nbformat_minor": 2
}