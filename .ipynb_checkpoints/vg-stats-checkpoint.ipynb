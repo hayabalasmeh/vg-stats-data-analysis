{
 "cells": [
  {
   "cell_type": "markdown",
   "source": [
    "## Data Analysis with Pandas\n",
    "## Auther : Haya Balasmeh\n",
    "## Date : 9th/August/2021\n",
    "## Data set name : Video Games Sales Data"
   ],
   "metadata": {}
  },
  {
   "cell_type": "markdown",
   "source": [
    "#### Questions To be Answered:\n",
    "\n",
    "1-Which company is the most common video game publisher?\n",
    "\n",
    "2-What’s the most common platform?\n",
    "\n",
    "3-What about the most common genre?\n",
    "\n",
    "4-What are the top 20 highest grossing games?\n",
    "\n",
    "5-For North American video game sales, what’s the median?\n",
    "\n",
    "  - Provide a secondary output showing ten games surrounding the median sales output\n",
    "  - assume that games with same median value are sorted in descending order\n",
    "\n",
    "6-For the top-selling game of all time, how many standard deviations above/below the mean are its sales for North America?\n",
    "\n",
    "7-The Nintendo Wii seems to have outdone itself with games. How does its average number of sales compare with all of the other platforms?\n",
    "\n",
    "8-Come up with 3 more questions that can be answered with this data set.\n",
    "\n",
    "\n"
   ],
   "metadata": {}
  },
  {
   "cell_type": "code",
   "execution_count": null,
   "source": [
    "import pandas as pd"
   ],
   "outputs": [],
   "metadata": {}
  }
 ],
 "metadata": {
  "orig_nbformat": 4,
  "language_info": {
   "name": "python",
   "version": "3.9.6"
  },
  "kernelspec": {
   "name": "python3",
   "display_name": "Python 3.9.6 64-bit ('.venv': poetry)"
  },
  "interpreter": {
   "hash": "f89e73119bee3978f7a48795828f2d5bf4d8a5d1cb76c233bf5d1aedde2451a9"
  }
 },
 "nbformat": 4,
 "nbformat_minor": 2
}